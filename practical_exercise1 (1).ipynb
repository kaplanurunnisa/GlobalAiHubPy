{
  "nbformat": 4,
  "nbformat_minor": 0,
  "metadata": {
    "colab": {
      "name": "practical_exercise1.ipynb",
      "provenance": [],
      "collapsed_sections": []
    },
    "kernelspec": {
      "name": "python3",
      "display_name": "Python 3"
    },
    "language_info": {
      "name": "python"
    }
  },
  "cells": [
    {
      "cell_type": "markdown",
      "source": [
        "# Practical exercise 1:  Plan an exciting adventure with a new friend\n",
        "\n",
        "Welcome to your first practical exercise for this course. Here you will get a chance to practice the concepts we've covered in the video lessons from the module and apply your new coding skills to plan an exciting adventure with a new friend you meet online."
      ],
      "metadata": {
        "id": "tBDsFMQwBs6Z"
      }
    },
    {
      "cell_type": "markdown",
      "source": [
        "##Warm up\n",
        "\n",
        "For this exercise, you will have to read the instructions, then write and run the code block. \n",
        "\n",
        "Let's test this. Do you remember all the keywords in Python? Probably not, but there is a quick and easy way to check them here.  \n",
        "\n",
        "1. Write the help() function in the code cell below and run the code. \n",
        "2. In the prompt that appears, type \"keywords\" and they will pop up."
      ],
      "metadata": {
        "id": "ymULFKyosM3d"
      }
    },
    {
      "cell_type": "code",
      "source": [
        "help()"
      ],
      "metadata": {
        "id": "0w6HGZBvsvru",
        "colab": {
          "base_uri": "https://localhost:8080/"
        },
        "outputId": "453c79cd-1d99-4b47-946d-5353582dfc38"
      },
      "execution_count": 28,
      "outputs": [
        {
          "output_type": "stream",
          "name": "stdout",
          "text": [
            "\n",
            "Welcome to Python 3.7's help utility!\n",
            "\n",
            "If this is your first time using Python, you should definitely check out\n",
            "the tutorial on the Internet at https://docs.python.org/3.7/tutorial/.\n",
            "\n",
            "Enter the name of any module, keyword, or topic to get help on writing\n",
            "Python programs and using Python modules.  To quit this help utility and\n",
            "return to the interpreter, just type \"quit\".\n",
            "\n",
            "To get a list of available modules, keywords, symbols, or topics, type\n",
            "\"modules\", \"keywords\", \"symbols\", or \"topics\".  Each module also comes\n",
            "with a one-line summary of what it does; to list the modules whose name\n",
            "or summary contain a given string such as \"spam\", type \"modules spam\".\n",
            "\n",
            "help> random\n",
            "Help on module random:\n",
            "\n",
            "NAME\n",
            "    random - Random variable generators.\n",
            "\n",
            "MODULE REFERENCE\n",
            "    https://docs.python.org/3.7/library/random\n",
            "    \n",
            "    The following documentation is automatically generated from the Python\n",
            "    source files.  It may be incomplete, incorrect or include features that\n",
            "    are considered implementation detail and may vary between Python\n",
            "    implementations.  When in doubt, consult the module reference at the\n",
            "    location listed above.\n",
            "\n",
            "DESCRIPTION\n",
            "        integers\n",
            "        --------\n",
            "               uniform within range\n",
            "    \n",
            "        sequences\n",
            "        ---------\n",
            "               pick random element\n",
            "               pick random sample\n",
            "               pick weighted random sample\n",
            "               generate random permutation\n",
            "    \n",
            "        distributions on the real line:\n",
            "        ------------------------------\n",
            "               uniform\n",
            "               triangular\n",
            "               normal (Gaussian)\n",
            "               lognormal\n",
            "               negative exponential\n",
            "               gamma\n",
            "               beta\n",
            "               pareto\n",
            "               Weibull\n",
            "    \n",
            "        distributions on the circle (angles 0 to 2pi)\n",
            "        ---------------------------------------------\n",
            "               circular uniform\n",
            "               von Mises\n",
            "    \n",
            "    General notes on the underlying Mersenne Twister core generator:\n",
            "    \n",
            "    * The period is 2**19937-1.\n",
            "    * It is one of the most extensively tested generators in existence.\n",
            "    * The random() method is implemented in C, executes in a single Python step,\n",
            "      and is, therefore, threadsafe.\n",
            "\n",
            "CLASSES\n",
            "    _random.Random(builtins.object)\n",
            "        Random\n",
            "            SystemRandom\n",
            "    \n",
            "    class Random(_random.Random)\n",
            "     |  Random(x=None)\n",
            "     |  \n",
            "     |  Random number generator base class used by bound module functions.\n",
            "     |  \n",
            "     |  Used to instantiate instances of Random to get generators that don't\n",
            "     |  share state.\n",
            "     |  \n",
            "     |  Class Random can also be subclassed if you want to use a different basic\n",
            "     |  generator of your own devising: in that case, override the following\n",
            "     |  methods:  random(), seed(), getstate(), and setstate().\n",
            "     |  Optionally, implement a getrandbits() method so that randrange()\n",
            "     |  can cover arbitrarily large ranges.\n",
            "     |  \n",
            "     |  Method resolution order:\n",
            "     |      Random\n",
            "     |      _random.Random\n",
            "     |      builtins.object\n",
            "     |  \n",
            "     |  Methods defined here:\n",
            "     |  \n",
            "     |  __getstate__(self)\n",
            "     |      # Issue 17489: Since __reduce__ was defined to fix #759889 this is no\n",
            "     |      # longer called; we leave it here because it has been here since random was\n",
            "     |      # rewritten back in 2001 and why risk breaking something.\n",
            "     |  \n",
            "     |  __init__(self, x=None)\n",
            "     |      Initialize an instance.\n",
            "     |      \n",
            "     |      Optional argument x controls seeding, as for Random.seed().\n",
            "     |  \n",
            "     |  __reduce__(self)\n",
            "     |      Helper for pickle.\n",
            "     |  \n",
            "     |  __setstate__(self, state)\n",
            "     |  \n",
            "     |  betavariate(self, alpha, beta)\n",
            "     |      Beta distribution.\n",
            "     |      \n",
            "     |      Conditions on the parameters are alpha > 0 and beta > 0.\n",
            "     |      Returned values range between 0 and 1.\n",
            "     |  \n",
            "     |  choice(self, seq)\n",
            "     |      Choose a random element from a non-empty sequence.\n",
            "     |  \n",
            "     |  choices(self, population, weights=None, *, cum_weights=None, k=1)\n",
            "     |      Return a k sized list of population elements chosen with replacement.\n",
            "     |      \n",
            "     |      If the relative weights or cumulative weights are not specified,\n",
            "     |      the selections are made with equal probability.\n",
            "     |  \n",
            "     |  expovariate(self, lambd)\n",
            "     |      Exponential distribution.\n",
            "     |      \n",
            "     |      lambd is 1.0 divided by the desired mean.  It should be\n",
            "     |      nonzero.  (The parameter would be called \"lambda\", but that is\n",
            "     |      a reserved word in Python.)  Returned values range from 0 to\n",
            "     |      positive infinity if lambd is positive, and from negative\n",
            "     |      infinity to 0 if lambd is negative.\n",
            "     |  \n",
            "     |  gammavariate(self, alpha, beta)\n",
            "     |      Gamma distribution.  Not the gamma function!\n",
            "     |      \n",
            "     |      Conditions on the parameters are alpha > 0 and beta > 0.\n",
            "     |      \n",
            "     |      The probability distribution function is:\n",
            "     |      \n",
            "     |                  x ** (alpha - 1) * math.exp(-x / beta)\n",
            "     |        pdf(x) =  --------------------------------------\n",
            "     |                    math.gamma(alpha) * beta ** alpha\n",
            "     |  \n",
            "     |  gauss(self, mu, sigma)\n",
            "     |      Gaussian distribution.\n",
            "     |      \n",
            "     |      mu is the mean, and sigma is the standard deviation.  This is\n",
            "     |      slightly faster than the normalvariate() function.\n",
            "     |      \n",
            "     |      Not thread-safe without a lock around calls.\n",
            "     |  \n",
            "     |  getstate(self)\n",
            "     |      Return internal state; can be passed to setstate() later.\n",
            "     |  \n",
            "     |  lognormvariate(self, mu, sigma)\n",
            "     |      Log normal distribution.\n",
            "     |      \n",
            "     |      If you take the natural logarithm of this distribution, you'll get a\n",
            "     |      normal distribution with mean mu and standard deviation sigma.\n",
            "     |      mu can have any value, and sigma must be greater than zero.\n",
            "     |  \n",
            "     |  normalvariate(self, mu, sigma)\n",
            "     |      Normal distribution.\n",
            "     |      \n",
            "     |      mu is the mean, and sigma is the standard deviation.\n",
            "     |  \n",
            "     |  paretovariate(self, alpha)\n",
            "     |      Pareto distribution.  alpha is the shape parameter.\n",
            "     |  \n",
            "     |  randint(self, a, b)\n",
            "     |      Return random integer in range [a, b], including both end points.\n",
            "     |  \n",
            "     |  randrange(self, start, stop=None, step=1, _int=<class 'int'>)\n",
            "     |      Choose a random item from range(start, stop[, step]).\n",
            "     |      \n",
            "     |      This fixes the problem with randint() which includes the\n",
            "     |      endpoint; in Python this is usually not what you want.\n",
            "     |  \n",
            "     |  sample(self, population, k)\n",
            "     |      Chooses k unique random elements from a population sequence or set.\n",
            "     |      \n",
            "     |      Returns a new list containing elements from the population while\n",
            "     |      leaving the original population unchanged.  The resulting list is\n",
            "     |      in selection order so that all sub-slices will also be valid random\n",
            "     |      samples.  This allows raffle winners (the sample) to be partitioned\n",
            "     |      into grand prize and second place winners (the subslices).\n",
            "     |      \n",
            "     |      Members of the population need not be hashable or unique.  If the\n",
            "     |      population contains repeats, then each occurrence is a possible\n",
            "     |      selection in the sample.\n",
            "     |      \n",
            "     |      To choose a sample in a range of integers, use range as an argument.\n",
            "     |      This is especially fast and space efficient for sampling from a\n",
            "     |      large population:   sample(range(10000000), 60)\n",
            "     |  \n",
            "     |  seed(self, a=None, version=2)\n",
            "     |      Initialize internal state from hashable object.\n",
            "     |      \n",
            "     |      None or no argument seeds from current time or from an operating\n",
            "     |      system specific randomness source if available.\n",
            "     |      \n",
            "     |      If *a* is an int, all bits are used.\n",
            "     |      \n",
            "     |      For version 2 (the default), all of the bits are used if *a* is a str,\n",
            "     |      bytes, or bytearray.  For version 1 (provided for reproducing random\n",
            "     |      sequences from older versions of Python), the algorithm for str and\n",
            "     |      bytes generates a narrower range of seeds.\n",
            "     |  \n",
            "     |  setstate(self, state)\n",
            "     |      Restore internal state from object returned by getstate().\n",
            "     |  \n",
            "     |  shuffle(self, x, random=None)\n",
            "     |      Shuffle list x in place, and return None.\n",
            "     |      \n",
            "     |      Optional argument random is a 0-argument function returning a\n",
            "     |      random float in [0.0, 1.0); if it is the default None, the\n",
            "     |      standard random.random will be used.\n",
            "     |  \n",
            "     |  triangular(self, low=0.0, high=1.0, mode=None)\n",
            "     |      Triangular distribution.\n",
            "     |      \n",
            "     |      Continuous distribution bounded by given lower and upper limits,\n",
            "     |      and having a given mode value in-between.\n",
            "     |      \n",
            "     |      http://en.wikipedia.org/wiki/Triangular_distribution\n",
            "     |  \n",
            "     |  uniform(self, a, b)\n",
            "     |      Get a random number in the range [a, b) or [a, b] depending on rounding.\n",
            "     |  \n",
            "     |  vonmisesvariate(self, mu, kappa)\n",
            "     |      Circular data distribution.\n",
            "     |      \n",
            "     |      mu is the mean angle, expressed in radians between 0 and 2*pi, and\n",
            "     |      kappa is the concentration parameter, which must be greater than or\n",
            "     |      equal to zero.  If kappa is equal to zero, this distribution reduces\n",
            "     |      to a uniform random angle over the range 0 to 2*pi.\n",
            "     |  \n",
            "     |  weibullvariate(self, alpha, beta)\n",
            "     |      Weibull distribution.\n",
            "     |      \n",
            "     |      alpha is the scale parameter and beta is the shape parameter.\n",
            "     |  \n",
            "     |  ----------------------------------------------------------------------\n",
            "     |  Data descriptors defined here:\n",
            "     |  \n",
            "     |  __dict__\n",
            "     |      dictionary for instance variables (if defined)\n",
            "     |  \n",
            "     |  __weakref__\n",
            "     |      list of weak references to the object (if defined)\n",
            "     |  \n",
            "     |  ----------------------------------------------------------------------\n",
            "     |  Data and other attributes defined here:\n",
            "     |  \n",
            "     |  VERSION = 3\n",
            "     |  \n",
            "     |  ----------------------------------------------------------------------\n",
            "     |  Methods inherited from _random.Random:\n",
            "     |  \n",
            "     |  __getattribute__(self, name, /)\n",
            "     |      Return getattr(self, name).\n",
            "     |  \n",
            "     |  getrandbits(...)\n",
            "     |      getrandbits(k) -> x.  Generates an int with k random bits.\n",
            "     |  \n",
            "     |  random(...)\n",
            "     |      random() -> x in the interval [0, 1).\n",
            "     |  \n",
            "     |  ----------------------------------------------------------------------\n",
            "     |  Static methods inherited from _random.Random:\n",
            "     |  \n",
            "     |  __new__(*args, **kwargs) from builtins.type\n",
            "     |      Create and return a new object.  See help(type) for accurate signature.\n",
            "    \n",
            "    class SystemRandom(Random)\n",
            "     |  SystemRandom(x=None)\n",
            "     |  \n",
            "     |  Alternate random number generator using sources provided\n",
            "     |  by the operating system (such as /dev/urandom on Unix or\n",
            "     |  CryptGenRandom on Windows).\n",
            "     |  \n",
            "     |   Not available on all systems (see os.urandom() for details).\n",
            "     |  \n",
            "     |  Method resolution order:\n",
            "     |      SystemRandom\n",
            "     |      Random\n",
            "     |      _random.Random\n",
            "     |      builtins.object\n",
            "     |  \n",
            "     |  Methods defined here:\n",
            "     |  \n",
            "     |  getrandbits(self, k)\n",
            "     |      getrandbits(k) -> x.  Generates an int with k random bits.\n",
            "     |  \n",
            "     |  getstate = _notimplemented(self, *args, **kwds)\n",
            "     |  \n",
            "     |  random(self)\n",
            "     |      Get the next random number in the range [0.0, 1.0).\n",
            "     |  \n",
            "     |  seed(self, *args, **kwds)\n",
            "     |      Stub method.  Not used for a system random number generator.\n",
            "     |  \n",
            "     |  setstate = _notimplemented(self, *args, **kwds)\n",
            "     |  \n",
            "     |  ----------------------------------------------------------------------\n",
            "     |  Methods inherited from Random:\n",
            "     |  \n",
            "     |  __getstate__(self)\n",
            "     |      # Issue 17489: Since __reduce__ was defined to fix #759889 this is no\n",
            "     |      # longer called; we leave it here because it has been here since random was\n",
            "     |      # rewritten back in 2001 and why risk breaking something.\n",
            "     |  \n",
            "     |  __init__(self, x=None)\n",
            "     |      Initialize an instance.\n",
            "     |      \n",
            "     |      Optional argument x controls seeding, as for Random.seed().\n",
            "     |  \n",
            "     |  __reduce__(self)\n",
            "     |      Helper for pickle.\n",
            "     |  \n",
            "     |  __setstate__(self, state)\n",
            "     |  \n",
            "     |  betavariate(self, alpha, beta)\n",
            "     |      Beta distribution.\n",
            "     |      \n",
            "     |      Conditions on the parameters are alpha > 0 and beta > 0.\n",
            "     |      Returned values range between 0 and 1.\n",
            "     |  \n",
            "     |  choice(self, seq)\n",
            "     |      Choose a random element from a non-empty sequence.\n",
            "     |  \n",
            "     |  choices(self, population, weights=None, *, cum_weights=None, k=1)\n",
            "     |      Return a k sized list of population elements chosen with replacement.\n",
            "     |      \n",
            "     |      If the relative weights or cumulative weights are not specified,\n",
            "     |      the selections are made with equal probability.\n",
            "     |  \n",
            "     |  expovariate(self, lambd)\n",
            "     |      Exponential distribution.\n",
            "     |      \n",
            "     |      lambd is 1.0 divided by the desired mean.  It should be\n",
            "     |      nonzero.  (The parameter would be called \"lambda\", but that is\n",
            "     |      a reserved word in Python.)  Returned values range from 0 to\n",
            "     |      positive infinity if lambd is positive, and from negative\n",
            "     |      infinity to 0 if lambd is negative.\n",
            "     |  \n",
            "     |  gammavariate(self, alpha, beta)\n",
            "     |      Gamma distribution.  Not the gamma function!\n",
            "     |      \n",
            "     |      Conditions on the parameters are alpha > 0 and beta > 0.\n",
            "     |      \n",
            "     |      The probability distribution function is:\n",
            "     |      \n",
            "     |                  x ** (alpha - 1) * math.exp(-x / beta)\n",
            "     |        pdf(x) =  --------------------------------------\n",
            "     |                    math.gamma(alpha) * beta ** alpha\n",
            "     |  \n",
            "     |  gauss(self, mu, sigma)\n",
            "     |      Gaussian distribution.\n",
            "     |      \n",
            "     |      mu is the mean, and sigma is the standard deviation.  This is\n",
            "     |      slightly faster than the normalvariate() function.\n",
            "     |      \n",
            "     |      Not thread-safe without a lock around calls.\n",
            "     |  \n",
            "     |  lognormvariate(self, mu, sigma)\n",
            "     |      Log normal distribution.\n",
            "     |      \n",
            "     |      If you take the natural logarithm of this distribution, you'll get a\n",
            "     |      normal distribution with mean mu and standard deviation sigma.\n",
            "     |      mu can have any value, and sigma must be greater than zero.\n",
            "     |  \n",
            "     |  normalvariate(self, mu, sigma)\n",
            "     |      Normal distribution.\n",
            "     |      \n",
            "     |      mu is the mean, and sigma is the standard deviation.\n",
            "     |  \n",
            "     |  paretovariate(self, alpha)\n",
            "     |      Pareto distribution.  alpha is the shape parameter.\n",
            "     |  \n",
            "     |  randint(self, a, b)\n",
            "     |      Return random integer in range [a, b], including both end points.\n",
            "     |  \n",
            "     |  randrange(self, start, stop=None, step=1, _int=<class 'int'>)\n",
            "     |      Choose a random item from range(start, stop[, step]).\n",
            "     |      \n",
            "     |      This fixes the problem with randint() which includes the\n",
            "     |      endpoint; in Python this is usually not what you want.\n",
            "     |  \n",
            "     |  sample(self, population, k)\n",
            "     |      Chooses k unique random elements from a population sequence or set.\n",
            "     |      \n",
            "     |      Returns a new list containing elements from the population while\n",
            "     |      leaving the original population unchanged.  The resulting list is\n",
            "     |      in selection order so that all sub-slices will also be valid random\n",
            "     |      samples.  This allows raffle winners (the sample) to be partitioned\n",
            "     |      into grand prize and second place winners (the subslices).\n",
            "     |      \n",
            "     |      Members of the population need not be hashable or unique.  If the\n",
            "     |      population contains repeats, then each occurrence is a possible\n",
            "     |      selection in the sample.\n",
            "     |      \n",
            "     |      To choose a sample in a range of integers, use range as an argument.\n",
            "     |      This is especially fast and space efficient for sampling from a\n",
            "     |      large population:   sample(range(10000000), 60)\n",
            "     |  \n",
            "     |  shuffle(self, x, random=None)\n",
            "     |      Shuffle list x in place, and return None.\n",
            "     |      \n",
            "     |      Optional argument random is a 0-argument function returning a\n",
            "     |      random float in [0.0, 1.0); if it is the default None, the\n",
            "     |      standard random.random will be used.\n",
            "     |  \n",
            "     |  triangular(self, low=0.0, high=1.0, mode=None)\n",
            "     |      Triangular distribution.\n",
            "     |      \n",
            "     |      Continuous distribution bounded by given lower and upper limits,\n",
            "     |      and having a given mode value in-between.\n",
            "     |      \n",
            "     |      http://en.wikipedia.org/wiki/Triangular_distribution\n",
            "     |  \n",
            "     |  uniform(self, a, b)\n",
            "     |      Get a random number in the range [a, b) or [a, b] depending on rounding.\n",
            "     |  \n",
            "     |  vonmisesvariate(self, mu, kappa)\n",
            "     |      Circular data distribution.\n",
            "     |      \n",
            "     |      mu is the mean angle, expressed in radians between 0 and 2*pi, and\n",
            "     |      kappa is the concentration parameter, which must be greater than or\n",
            "     |      equal to zero.  If kappa is equal to zero, this distribution reduces\n",
            "     |      to a uniform random angle over the range 0 to 2*pi.\n",
            "     |  \n",
            "     |  weibullvariate(self, alpha, beta)\n",
            "     |      Weibull distribution.\n",
            "     |      \n",
            "     |      alpha is the scale parameter and beta is the shape parameter.\n",
            "     |  \n",
            "     |  ----------------------------------------------------------------------\n",
            "     |  Data descriptors inherited from Random:\n",
            "     |  \n",
            "     |  __dict__\n",
            "     |      dictionary for instance variables (if defined)\n",
            "     |  \n",
            "     |  __weakref__\n",
            "     |      list of weak references to the object (if defined)\n",
            "     |  \n",
            "     |  ----------------------------------------------------------------------\n",
            "     |  Data and other attributes inherited from Random:\n",
            "     |  \n",
            "     |  VERSION = 3\n",
            "     |  \n",
            "     |  ----------------------------------------------------------------------\n",
            "     |  Methods inherited from _random.Random:\n",
            "     |  \n",
            "     |  __getattribute__(self, name, /)\n",
            "     |      Return getattr(self, name).\n",
            "     |  \n",
            "     |  ----------------------------------------------------------------------\n",
            "     |  Static methods inherited from _random.Random:\n",
            "     |  \n",
            "     |  __new__(*args, **kwargs) from builtins.type\n",
            "     |      Create and return a new object.  See help(type) for accurate signature.\n",
            "\n",
            "FUNCTIONS\n",
            "    betavariate(alpha, beta) method of Random instance\n",
            "        Beta distribution.\n",
            "        \n",
            "        Conditions on the parameters are alpha > 0 and beta > 0.\n",
            "        Returned values range between 0 and 1.\n",
            "    \n",
            "    choice(seq) method of Random instance\n",
            "        Choose a random element from a non-empty sequence.\n",
            "    \n",
            "    choices(population, weights=None, *, cum_weights=None, k=1) method of Random instance\n",
            "        Return a k sized list of population elements chosen with replacement.\n",
            "        \n",
            "        If the relative weights or cumulative weights are not specified,\n",
            "        the selections are made with equal probability.\n",
            "    \n",
            "    expovariate(lambd) method of Random instance\n",
            "        Exponential distribution.\n",
            "        \n",
            "        lambd is 1.0 divided by the desired mean.  It should be\n",
            "        nonzero.  (The parameter would be called \"lambda\", but that is\n",
            "        a reserved word in Python.)  Returned values range from 0 to\n",
            "        positive infinity if lambd is positive, and from negative\n",
            "        infinity to 0 if lambd is negative.\n",
            "    \n",
            "    gammavariate(alpha, beta) method of Random instance\n",
            "        Gamma distribution.  Not the gamma function!\n",
            "        \n",
            "        Conditions on the parameters are alpha > 0 and beta > 0.\n",
            "        \n",
            "        The probability distribution function is:\n",
            "        \n",
            "                    x ** (alpha - 1) * math.exp(-x / beta)\n",
            "          pdf(x) =  --------------------------------------\n",
            "                      math.gamma(alpha) * beta ** alpha\n",
            "    \n",
            "    gauss(mu, sigma) method of Random instance\n",
            "        Gaussian distribution.\n",
            "        \n",
            "        mu is the mean, and sigma is the standard deviation.  This is\n",
            "        slightly faster than the normalvariate() function.\n",
            "        \n",
            "        Not thread-safe without a lock around calls.\n",
            "    \n",
            "    getrandbits(...) method of Random instance\n",
            "        getrandbits(k) -> x.  Generates an int with k random bits.\n",
            "    \n",
            "    getstate() method of Random instance\n",
            "        Return internal state; can be passed to setstate() later.\n",
            "    \n",
            "    lognormvariate(mu, sigma) method of Random instance\n",
            "        Log normal distribution.\n",
            "        \n",
            "        If you take the natural logarithm of this distribution, you'll get a\n",
            "        normal distribution with mean mu and standard deviation sigma.\n",
            "        mu can have any value, and sigma must be greater than zero.\n",
            "    \n",
            "    normalvariate(mu, sigma) method of Random instance\n",
            "        Normal distribution.\n",
            "        \n",
            "        mu is the mean, and sigma is the standard deviation.\n",
            "    \n",
            "    paretovariate(alpha) method of Random instance\n",
            "        Pareto distribution.  alpha is the shape parameter.\n",
            "    \n",
            "    randint(a, b) method of Random instance\n",
            "        Return random integer in range [a, b], including both end points.\n",
            "    \n",
            "    random(...) method of Random instance\n",
            "        random() -> x in the interval [0, 1).\n",
            "    \n",
            "    randrange(start, stop=None, step=1, _int=<class 'int'>) method of Random instance\n",
            "        Choose a random item from range(start, stop[, step]).\n",
            "        \n",
            "        This fixes the problem with randint() which includes the\n",
            "        endpoint; in Python this is usually not what you want.\n",
            "    \n",
            "    sample(population, k) method of Random instance\n",
            "        Chooses k unique random elements from a population sequence or set.\n",
            "        \n",
            "        Returns a new list containing elements from the population while\n",
            "        leaving the original population unchanged.  The resulting list is\n",
            "        in selection order so that all sub-slices will also be valid random\n",
            "        samples.  This allows raffle winners (the sample) to be partitioned\n",
            "        into grand prize and second place winners (the subslices).\n",
            "        \n",
            "        Members of the population need not be hashable or unique.  If the\n",
            "        population contains repeats, then each occurrence is a possible\n",
            "        selection in the sample.\n",
            "        \n",
            "        To choose a sample in a range of integers, use range as an argument.\n",
            "        This is especially fast and space efficient for sampling from a\n",
            "        large population:   sample(range(10000000), 60)\n",
            "    \n",
            "    seed(a=None, version=2) method of Random instance\n",
            "        Initialize internal state from hashable object.\n",
            "        \n",
            "        None or no argument seeds from current time or from an operating\n",
            "        system specific randomness source if available.\n",
            "        \n",
            "        If *a* is an int, all bits are used.\n",
            "        \n",
            "        For version 2 (the default), all of the bits are used if *a* is a str,\n",
            "        bytes, or bytearray.  For version 1 (provided for reproducing random\n",
            "        sequences from older versions of Python), the algorithm for str and\n",
            "        bytes generates a narrower range of seeds.\n",
            "    \n",
            "    setstate(state) method of Random instance\n",
            "        Restore internal state from object returned by getstate().\n",
            "    \n",
            "    shuffle(x, random=None) method of Random instance\n",
            "        Shuffle list x in place, and return None.\n",
            "        \n",
            "        Optional argument random is a 0-argument function returning a\n",
            "        random float in [0.0, 1.0); if it is the default None, the\n",
            "        standard random.random will be used.\n",
            "    \n",
            "    triangular(low=0.0, high=1.0, mode=None) method of Random instance\n",
            "        Triangular distribution.\n",
            "        \n",
            "        Continuous distribution bounded by given lower and upper limits,\n",
            "        and having a given mode value in-between.\n",
            "        \n",
            "        http://en.wikipedia.org/wiki/Triangular_distribution\n",
            "    \n",
            "    uniform(a, b) method of Random instance\n",
            "        Get a random number in the range [a, b) or [a, b] depending on rounding.\n",
            "    \n",
            "    vonmisesvariate(mu, kappa) method of Random instance\n",
            "        Circular data distribution.\n",
            "        \n",
            "        mu is the mean angle, expressed in radians between 0 and 2*pi, and\n",
            "        kappa is the concentration parameter, which must be greater than or\n",
            "        equal to zero.  If kappa is equal to zero, this distribution reduces\n",
            "        to a uniform random angle over the range 0 to 2*pi.\n",
            "    \n",
            "    weibullvariate(alpha, beta) method of Random instance\n",
            "        Weibull distribution.\n",
            "        \n",
            "        alpha is the scale parameter and beta is the shape parameter.\n",
            "\n",
            "DATA\n",
            "    __all__ = ['Random', 'seed', 'random', 'uniform', 'randint', 'choice',...\n",
            "\n",
            "FILE\n",
            "    /usr/lib/python3.7/random.py\n",
            "\n",
            "\n",
            "\n",
            "You are now leaving help and returning to the Python interpreter.\n",
            "If you want to ask for help on a particular object directly from the\n",
            "interpreter, you can type \"help(object)\".  Executing \"help('string')\"\n",
            "has the same effect as typing a particular string at the help> prompt.\n"
          ]
        }
      ]
    },
    {
      "cell_type": "markdown",
      "source": [
        "🧨 Is the code cell above still running? If so, you can't continue!\n",
        "\n",
        "💣 Click the stop button next to the cell. Otherwise, it will continue to run infinitely and you will not be able to run other cells."
      ],
      "metadata": {
        "id": "kG-nBjLU1WPC"
      }
    },
    {
      "cell_type": "markdown",
      "source": [
        "# Meet Amir\n",
        "\n",
        "Let's say you are browsing the internet, when a pop up message shows on your screen, someone wants to meet you. \n",
        " "
      ],
      "metadata": {
        "id": "cnWVzlo1vBy8"
      }
    },
    {
      "cell_type": "code",
      "source": [
        "#Run this cell to see the message\n",
        "message = \"Hello, my name is Amir! Nice to meet you. What is yours?\"\n",
        "print(message)"
      ],
      "metadata": {
        "id": "JFUdDbEW7GqB",
        "colab": {
          "base_uri": "https://localhost:8080/"
        },
        "outputId": "72ec778f-8512-4951-f49a-b9d9342ba360"
      },
      "execution_count": 2,
      "outputs": [
        {
          "output_type": "stream",
          "name": "stdout",
          "text": [
            "Hello, my name is Amir! Nice to meet you. What is yours?\n"
          ]
        }
      ]
    },
    {
      "cell_type": "markdown",
      "source": [
        "Now, how would you answer Amir? \n",
        "\n",
        "Use the cell below to prepare an answer for him with a greeting and your name and print it to the screen. \n",
        "\n",
        "📌 We use the built-in function print() in Python to show results as output."
      ],
      "metadata": {
        "id": "Yr7uQq1J2k6p"
      }
    },
    {
      "cell_type": "code",
      "source": [
        "#Write your answer and print it on the screen\n",
        "print(\"Hello, my name is Nur! Nice to meet you too.\")\n"
      ],
      "metadata": {
        "id": "8S1F2r8NtEoN",
        "colab": {
          "base_uri": "https://localhost:8080/"
        },
        "outputId": "5def9c2c-a711-42c6-9f4b-90192830cff8"
      },
      "execution_count": 3,
      "outputs": [
        {
          "output_type": "stream",
          "name": "stdout",
          "text": [
            "Hello, my name is Nur! Nice to meet you too.\n"
          ]
        }
      ]
    },
    {
      "cell_type": "markdown",
      "source": [
        "Good job! Right away Amir writes you back with an intriguing question. He says, \"Would you like to plan an exciting adventure with me today?\" Well, why not! But before you start planning, maybe you need to learn a little bit more about each other."
      ],
      "metadata": {
        "id": "Vgv4mhyZEWR6"
      }
    },
    {
      "cell_type": "markdown",
      "source": [
        "#Get to know each other\n",
        "\n",
        "You ask Amir to tell you a little bit about himself, and here's what he tells you."
      ],
      "metadata": {
        "id": "QQIXQsmRwGqB"
      }
    },
    {
      "cell_type": "code",
      "source": [
        "#Run the cell to see his message\n",
        "his_age = 20\n",
        "his_height = 1.76\n",
        "his_hair_color = \"brunette\"\n",
        "his_hometown = \"Iran\"\n",
        "where_he_lives = \"Turkey\"\n",
        "\n",
        "print(\"I am\", str(his_age),\"years old,\",str(his_height),\"tall\",his_hair_color,\"guy from\",his_hometown,\"but I currently live in\",where_he_lives)\n",
        "\n",
        "print(\"What about you? Tell me about yourself.\")"
      ],
      "metadata": {
        "id": "dvTr4HR4wF4n",
        "colab": {
          "base_uri": "https://localhost:8080/"
        },
        "outputId": "e6d04a74-d837-4881-ab82-3821e061ca57"
      },
      "execution_count": 4,
      "outputs": [
        {
          "output_type": "stream",
          "name": "stdout",
          "text": [
            "I am 20 years old, 1.76 tall brunette guy from Iran but I currently live in Turkey\n",
            "What about you? Tell me about yourself.\n"
          ]
        }
      ]
    },
    {
      "cell_type": "markdown",
      "source": [
        "Now it is your turn to share, but first some preparation is needed.\n",
        "\n",
        "1. Write in information about yourself using the variables below. \n",
        "2. If there's something you don't want to share, you can use comments. Just put a \"#\" symbol in front of the code line and Python will not execute that line of code.\n",
        "3. Check the datatype of each variable.\n",
        "\n",
        "📌 Remember that there are different data types in Python and in order to use them in a sentence you may have to convert some of them. "
      ],
      "metadata": {
        "id": "L7-zc-wR5982"
      }
    },
    {
      "cell_type": "code",
      "source": [
        "#Please assign your age, height and other details you want to share.\n",
        "my_age = 25\n",
        "my_height = 1.65\n",
        "my_hair_color = \"brunette\"\n",
        "my_hometown = \"Turkey\"\n",
        "where_i_live = \"Germany\"\n",
        "#Check the data type of the variables you want to use.\n",
        "print(type(my_age))\n",
        "print(type(my_height))\n",
        "print(type(my_hair_color))\n",
        "print(type(my_hometown))\n",
        "print(type(where_i_live))\n"
      ],
      "metadata": {
        "id": "MDTV-mOZBVOw",
        "colab": {
          "base_uri": "https://localhost:8080/"
        },
        "outputId": "37a24eaa-8172-439e-e22d-ef7ccd206e02"
      },
      "execution_count": 18,
      "outputs": [
        {
          "output_type": "stream",
          "name": "stdout",
          "text": [
            "<class 'int'>\n",
            "<class 'float'>\n",
            "<class 'str'>\n",
            "<class 'str'>\n",
            "<class 'str'>\n"
          ]
        }
      ]
    },
    {
      "cell_type": "markdown",
      "source": [
        "Great, now that you know what you want to share and which variables need to be converted to strings, you're ready to write your sentence. "
      ],
      "metadata": {
        "id": "SDnrjsw7IC7Z"
      }
    },
    {
      "cell_type": "code",
      "source": [
        "#Write a sentence using the print function to describe yourself using the variables above in the correct data type\n",
        "print(\"I am\", str(my_age),\"years old,\",str(my_height),\"tall\",my_hair_color,\"guy from\",my_hometown,\"but I currently live in\",where_i_live)"
      ],
      "metadata": {
        "id": "0U8slyfyICeJ",
        "colab": {
          "base_uri": "https://localhost:8080/"
        },
        "outputId": "1f04beac-2caf-41e2-a060-dad264cfc609"
      },
      "execution_count": 8,
      "outputs": [
        {
          "output_type": "stream",
          "name": "stdout",
          "text": [
            "I am 25 years old, 1.65 tall brunette guy from Turkey but I currently live in Germany\n"
          ]
        }
      ]
    },
    {
      "cell_type": "markdown",
      "source": [
        "#Where to go and what to eat\n",
        "\n",
        "Now that you know each other a little better, you can start planning your adventure. But where do you start? \n",
        "\n",
        "Let's start with locations and food. Amir asks you to make a list of places in the world that you want to visit and meals that you like to eat.\n",
        " \n",
        "Create a list 'favorite_places_and_foods' that contains at least 5 places and 5 meals.\n"
      ],
      "metadata": {
        "id": "7ICXdJRy9SWZ"
      }
    },
    {
      "cell_type": "code",
      "source": [
        "#Create your list\n",
        "favorite_places_and_foods =[\"Museums\",\"Historical Places\",\"Different Countries\",\"Coffeeshops\",\"Libraries\",\"Desert\",\"Mantı\",\"Soup\",\"Coffee\",\"Dürüm\"]"
      ],
      "metadata": {
        "id": "FHdeAmG6Aw3h"
      },
      "execution_count": 19,
      "outputs": []
    },
    {
      "cell_type": "markdown",
      "source": [
        "It's quite tough to choose from such great options. You need to narrow it down to three items per category. \n",
        "\n",
        "1. First you have to separate or 'slice' the places from the meals. \n",
        "2. Then select the first three items from the places list and the last ones from the foods list.\n",
        "3. Print the remaining options to the screen. \n",
        "\n",
        "📌 Do you remember the list slicing technique? For example, Mylist[1:3] will give the second and third value from Mylist."
      ],
      "metadata": {
        "id": "bHbGRpu2MmYH"
      }
    },
    {
      "cell_type": "code",
      "source": [
        "#Create two separate lists for places and foods using the list slicing technique\n",
        "places =favorite_places_and_foods[0:5]\n",
        "foods = favorite_places_and_foods[6:10]\n",
        "\n",
        "#Select the first and last three from place and food lists\n",
        "places[1:3]\n",
        "foods[1:3]\n",
        "\n",
        "#Print both lists\n",
        "print(places[0:3])\n",
        "print(foods[0:3])"
      ],
      "metadata": {
        "id": "13LMxJu1CD-F",
        "colab": {
          "base_uri": "https://localhost:8080/"
        },
        "outputId": "566a2919-9faa-432a-ac47-ee669cb533de"
      },
      "execution_count": 26,
      "outputs": [
        {
          "output_type": "stream",
          "name": "stdout",
          "text": [
            "['Museums', 'Historical Places', 'Different Countries']\n",
            "['Mantı', 'Soup', 'Coffee']\n"
          ]
        }
      ]
    },
    {
      "cell_type": "markdown",
      "source": [
        "It's quite hard to make a choice from these three. But why not let the computer choose for you? Do you remember the game of dice from our videos? Here is what you need to do.\n",
        "\n",
        "1. Import the random module\n",
        "2. Generate two random numbers between 0-2\n",
        "3. Use each number as the index to choose an item from your favourite-place and food lists\n",
        "4. Print the results to the screen\n"
      ],
      "metadata": {
        "id": "R5LG-XXHBFFM"
      }
    },
    {
      "cell_type": "code",
      "source": [
        "#Please import the random module and generate two random numbers between 0 and 2\n",
        "import random\n",
        "\n",
        "num1= random.randint(0,2)\n",
        "num2= random.randint(0,2)\n",
        "#Use the generated numbers as indexes of randomely chosen items from place and food lists\n",
        "\n",
        "print(places[num1])\n",
        "print(foods[num2])\n"
      ],
      "metadata": {
        "id": "krGw2OUtC9y5",
        "colab": {
          "base_uri": "https://localhost:8080/"
        },
        "outputId": "c7a1ddc9-b135-4f88-bf9a-926f018257a2"
      },
      "execution_count": 30,
      "outputs": [
        {
          "output_type": "stream",
          "name": "stdout",
          "text": [
            "Museums\n",
            "Mantı\n"
          ]
        }
      ]
    },
    {
      "cell_type": "markdown",
      "source": [
        "You must have found your location and food. But what else would you like to do on your adventure?"
      ],
      "metadata": {
        "id": "XzBTqk1yPZsM"
      }
    },
    {
      "cell_type": "markdown",
      "source": [
        "#Activities \n",
        "\n",
        "Now, you have your place and meals, but after lunch there are still lots of activities that you can do together...or separately.\n",
        "\n",
        "Let's say there are three pre-defined options: playing chess, playing tennis and visiting a museum. Chess and tennis require both of you to participate, but you can visit the museum separately as well. \n",
        "\n",
        "We need a code to indicate which activities each of you would like to do and which ones will be able to do. A chance to use our logical operators. \n",
        "\n",
        "1. Define activities\n",
        "2. Use the operands 'True' and 'False' to indicate your and Amir's preference for each activity\n",
        "3. Use the logical operators 'and' and 'or' to define which activities you will be able to do\n",
        "\n",
        "📌 Please add in the responces for Amir as well, by the way he doesn't like sports, but loves board games. "
      ],
      "metadata": {
        "id": "9t9q1B-WbW4i"
      }
    },
    {
      "cell_type": "code",
      "source": [
        "first_activity = \"lets play chess in the park\"\n",
        "second_activiy = \"lets play a game of tennis\"\n",
        "third_activity = \"lets go to the museum\"\n",
        "\n",
        "#Write your and Amir's preference for each activity either as \"True\" or \"False\"\n",
        "\n",
        "#First activity\n",
        "first_activity_your = True\n",
        "first_activity_friend = True\n",
        "\n",
        "#Example statement\n",
        "print(\"We are going to play chess in the park! Answer:\" ,first_activity_your and first_activity_friend)\n",
        " \n",
        "#Second activity\n",
        "second_activity_yours= True\n",
        "second_activity_friend=False\n",
        "\n",
        "#Your turn to write the statement\n",
        "print(\"We are going to play tennis in the park! Answer:\" ,second_activity_yours and second_activity_friend)\n",
        "\n",
        "#Third activity\n",
        "third_activity_yours= True\n",
        "third_activity_friend= False\n",
        "\n",
        "\n",
        "#Your turn to write the statement \n",
        "print(\"I want to go to museum would you like to come? Answer:\", third_activity_yours or third_activity_friend)"
      ],
      "metadata": {
        "id": "sNIV7420Yk-Y",
        "colab": {
          "base_uri": "https://localhost:8080/"
        },
        "outputId": "24874b57-6e4d-4240-e430-ff6a7c667522"
      },
      "execution_count": 1,
      "outputs": [
        {
          "output_type": "stream",
          "name": "stdout",
          "text": [
            "We are going to play chess in the park! Answer: True\n",
            "We are going to play tennis in the park! Answer: False\n",
            "I want to go to museum would you like to come? Answer: True\n"
          ]
        }
      ]
    },
    {
      "cell_type": "markdown",
      "source": [
        "#Get a date\n",
        "\n",
        "Finally you know where to meet, what to eat and what do to. The only last thing to decide is when to meet. How would you ask Amir for the date and time he wants to go on this adventure with you? \n",
        "\n",
        "📌📌Hint: Use the input() function."
      ],
      "metadata": {
        "id": "p_jbzGubELqR"
      }
    },
    {
      "cell_type": "code",
      "source": [
        "#Create a variable for your trip date that asks Amir for an input\n",
        "trip_date= int(input(\"When would you like to go? Answer: date?\" ))\n",
        "\n",
        "#Print the date for the trip by using it in a sentence\n",
        "print(trip_date)"
      ],
      "metadata": {
        "id": "jGxVfccGEMZB",
        "colab": {
          "base_uri": "https://localhost:8080/",
          "height": 537
        },
        "outputId": "bacbbe4b-f9fb-415a-e144-8832a8ca6262"
      },
      "execution_count": 3,
      "outputs": [
        {
          "output_type": "error",
          "ename": "KeyboardInterrupt",
          "evalue": "ignored",
          "traceback": [
            "\u001b[0;31m---------------------------------------------------------------------------\u001b[0m",
            "\u001b[0;31mKeyboardInterrupt\u001b[0m                         Traceback (most recent call last)",
            "\u001b[0;32m/usr/local/lib/python3.7/dist-packages/ipykernel/kernelbase.py\u001b[0m in \u001b[0;36m_input_request\u001b[0;34m(self, prompt, ident, parent, password)\u001b[0m\n\u001b[1;32m    728\u001b[0m             \u001b[0;32mtry\u001b[0m\u001b[0;34m:\u001b[0m\u001b[0;34m\u001b[0m\u001b[0;34m\u001b[0m\u001b[0m\n\u001b[0;32m--> 729\u001b[0;31m                 \u001b[0mident\u001b[0m\u001b[0;34m,\u001b[0m \u001b[0mreply\u001b[0m \u001b[0;34m=\u001b[0m \u001b[0mself\u001b[0m\u001b[0;34m.\u001b[0m\u001b[0msession\u001b[0m\u001b[0;34m.\u001b[0m\u001b[0mrecv\u001b[0m\u001b[0;34m(\u001b[0m\u001b[0mself\u001b[0m\u001b[0;34m.\u001b[0m\u001b[0mstdin_socket\u001b[0m\u001b[0;34m,\u001b[0m \u001b[0;36m0\u001b[0m\u001b[0;34m)\u001b[0m\u001b[0;34m\u001b[0m\u001b[0;34m\u001b[0m\u001b[0m\n\u001b[0m\u001b[1;32m    730\u001b[0m             \u001b[0;32mexcept\u001b[0m \u001b[0mException\u001b[0m\u001b[0;34m:\u001b[0m\u001b[0;34m\u001b[0m\u001b[0;34m\u001b[0m\u001b[0m\n",
            "\u001b[0;32m/usr/local/lib/python3.7/dist-packages/jupyter_client/session.py\u001b[0m in \u001b[0;36mrecv\u001b[0;34m(self, socket, mode, content, copy)\u001b[0m\n\u001b[1;32m    802\u001b[0m         \u001b[0;32mtry\u001b[0m\u001b[0;34m:\u001b[0m\u001b[0;34m\u001b[0m\u001b[0;34m\u001b[0m\u001b[0m\n\u001b[0;32m--> 803\u001b[0;31m             \u001b[0mmsg_list\u001b[0m \u001b[0;34m=\u001b[0m \u001b[0msocket\u001b[0m\u001b[0;34m.\u001b[0m\u001b[0mrecv_multipart\u001b[0m\u001b[0;34m(\u001b[0m\u001b[0mmode\u001b[0m\u001b[0;34m,\u001b[0m \u001b[0mcopy\u001b[0m\u001b[0;34m=\u001b[0m\u001b[0mcopy\u001b[0m\u001b[0;34m)\u001b[0m\u001b[0;34m\u001b[0m\u001b[0;34m\u001b[0m\u001b[0m\n\u001b[0m\u001b[1;32m    804\u001b[0m         \u001b[0;32mexcept\u001b[0m \u001b[0mzmq\u001b[0m\u001b[0;34m.\u001b[0m\u001b[0mZMQError\u001b[0m \u001b[0;32mas\u001b[0m \u001b[0me\u001b[0m\u001b[0;34m:\u001b[0m\u001b[0;34m\u001b[0m\u001b[0;34m\u001b[0m\u001b[0m\n",
            "\u001b[0;32m/usr/local/lib/python3.7/dist-packages/zmq/sugar/socket.py\u001b[0m in \u001b[0;36mrecv_multipart\u001b[0;34m(self, flags, copy, track)\u001b[0m\n\u001b[1;32m    726\u001b[0m         \"\"\"\n\u001b[0;32m--> 727\u001b[0;31m         \u001b[0mparts\u001b[0m \u001b[0;34m=\u001b[0m \u001b[0;34m[\u001b[0m\u001b[0mself\u001b[0m\u001b[0;34m.\u001b[0m\u001b[0mrecv\u001b[0m\u001b[0;34m(\u001b[0m\u001b[0mflags\u001b[0m\u001b[0;34m,\u001b[0m \u001b[0mcopy\u001b[0m\u001b[0;34m=\u001b[0m\u001b[0mcopy\u001b[0m\u001b[0;34m,\u001b[0m \u001b[0mtrack\u001b[0m\u001b[0;34m=\u001b[0m\u001b[0mtrack\u001b[0m\u001b[0;34m)\u001b[0m\u001b[0;34m]\u001b[0m\u001b[0;34m\u001b[0m\u001b[0;34m\u001b[0m\u001b[0m\n\u001b[0m\u001b[1;32m    728\u001b[0m         \u001b[0;31m# have first part already, only loop while more to receive\u001b[0m\u001b[0;34m\u001b[0m\u001b[0;34m\u001b[0m\u001b[0;34m\u001b[0m\u001b[0m\n",
            "\u001b[0;32mzmq/backend/cython/socket.pyx\u001b[0m in \u001b[0;36mzmq.backend.cython.socket.Socket.recv\u001b[0;34m()\u001b[0m\n",
            "\u001b[0;32mzmq/backend/cython/socket.pyx\u001b[0m in \u001b[0;36mzmq.backend.cython.socket.Socket.recv\u001b[0;34m()\u001b[0m\n",
            "\u001b[0;32mzmq/backend/cython/socket.pyx\u001b[0m in \u001b[0;36mzmq.backend.cython.socket._recv_copy\u001b[0;34m()\u001b[0m\n",
            "\u001b[0;32m/usr/local/lib/python3.7/dist-packages/zmq/backend/cython/checkrc.pxd\u001b[0m in \u001b[0;36mzmq.backend.cython.checkrc._check_rc\u001b[0;34m()\u001b[0m\n",
            "\u001b[0;31mKeyboardInterrupt\u001b[0m: ",
            "\nDuring handling of the above exception, another exception occurred:\n",
            "\u001b[0;31mKeyboardInterrupt\u001b[0m                         Traceback (most recent call last)",
            "\u001b[0;32m<ipython-input-3-2cc3f73f1f58>\u001b[0m in \u001b[0;36m<module>\u001b[0;34m()\u001b[0m\n\u001b[1;32m      1\u001b[0m \u001b[0;31m#Create a variable for your trip date that asks Amir for an input\u001b[0m\u001b[0;34m\u001b[0m\u001b[0;34m\u001b[0m\u001b[0;34m\u001b[0m\u001b[0m\n\u001b[0;32m----> 2\u001b[0;31m \u001b[0mtrip_date\u001b[0m\u001b[0;34m=\u001b[0m \u001b[0mint\u001b[0m\u001b[0;34m(\u001b[0m\u001b[0minput\u001b[0m\u001b[0;34m(\u001b[0m\u001b[0;34m\"When would you like to go? Answer: date?\"\u001b[0m \u001b[0;34m)\u001b[0m\u001b[0;34m)\u001b[0m\u001b[0;34m\u001b[0m\u001b[0;34m\u001b[0m\u001b[0m\n\u001b[0m\u001b[1;32m      3\u001b[0m \u001b[0;34m\u001b[0m\u001b[0m\n\u001b[1;32m      4\u001b[0m \u001b[0;31m#Print the date for the trip by using it in a sentence\u001b[0m\u001b[0;34m\u001b[0m\u001b[0;34m\u001b[0m\u001b[0;34m\u001b[0m\u001b[0m\n\u001b[1;32m      5\u001b[0m \u001b[0mprint\u001b[0m\u001b[0;34m(\u001b[0m\u001b[0mtrip_date\u001b[0m\u001b[0;34m)\u001b[0m\u001b[0;34m\u001b[0m\u001b[0;34m\u001b[0m\u001b[0m\n",
            "\u001b[0;32m/usr/local/lib/python3.7/dist-packages/ipykernel/kernelbase.py\u001b[0m in \u001b[0;36mraw_input\u001b[0;34m(self, prompt)\u001b[0m\n\u001b[1;32m    702\u001b[0m             \u001b[0mself\u001b[0m\u001b[0;34m.\u001b[0m\u001b[0m_parent_ident\u001b[0m\u001b[0;34m,\u001b[0m\u001b[0;34m\u001b[0m\u001b[0;34m\u001b[0m\u001b[0m\n\u001b[1;32m    703\u001b[0m             \u001b[0mself\u001b[0m\u001b[0;34m.\u001b[0m\u001b[0m_parent_header\u001b[0m\u001b[0;34m,\u001b[0m\u001b[0;34m\u001b[0m\u001b[0;34m\u001b[0m\u001b[0m\n\u001b[0;32m--> 704\u001b[0;31m             \u001b[0mpassword\u001b[0m\u001b[0;34m=\u001b[0m\u001b[0;32mFalse\u001b[0m\u001b[0;34m,\u001b[0m\u001b[0;34m\u001b[0m\u001b[0;34m\u001b[0m\u001b[0m\n\u001b[0m\u001b[1;32m    705\u001b[0m         )\n\u001b[1;32m    706\u001b[0m \u001b[0;34m\u001b[0m\u001b[0m\n",
            "\u001b[0;32m/usr/local/lib/python3.7/dist-packages/ipykernel/kernelbase.py\u001b[0m in \u001b[0;36m_input_request\u001b[0;34m(self, prompt, ident, parent, password)\u001b[0m\n\u001b[1;32m    732\u001b[0m             \u001b[0;32mexcept\u001b[0m \u001b[0mKeyboardInterrupt\u001b[0m\u001b[0;34m:\u001b[0m\u001b[0;34m\u001b[0m\u001b[0;34m\u001b[0m\u001b[0m\n\u001b[1;32m    733\u001b[0m                 \u001b[0;31m# re-raise KeyboardInterrupt, to truncate traceback\u001b[0m\u001b[0;34m\u001b[0m\u001b[0;34m\u001b[0m\u001b[0;34m\u001b[0m\u001b[0m\n\u001b[0;32m--> 734\u001b[0;31m                 \u001b[0;32mraise\u001b[0m \u001b[0mKeyboardInterrupt\u001b[0m\u001b[0;34m\u001b[0m\u001b[0;34m\u001b[0m\u001b[0m\n\u001b[0m\u001b[1;32m    735\u001b[0m             \u001b[0;32melse\u001b[0m\u001b[0;34m:\u001b[0m\u001b[0;34m\u001b[0m\u001b[0;34m\u001b[0m\u001b[0m\n\u001b[1;32m    736\u001b[0m                 \u001b[0;32mbreak\u001b[0m\u001b[0;34m\u001b[0m\u001b[0;34m\u001b[0m\u001b[0m\n",
            "\u001b[0;31mKeyboardInterrupt\u001b[0m: "
          ]
        }
      ]
    }
  ]
}