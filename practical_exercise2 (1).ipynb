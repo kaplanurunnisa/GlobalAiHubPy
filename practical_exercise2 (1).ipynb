{
  "cells": [
    {
      "cell_type": "markdown",
      "metadata": {
        "id": "tBDsFMQwBs6Z"
      },
      "source": [
        "# Practical exercise 2:  You are a game developer :)\n",
        "\n",
        "In this practical exercise you are a game developer. You will program your first game – Rock, Paper, Scissors.\n",
        "\n",
        "If you are not familiar with the game, you can read about it here: https://en.wikipedia.org/wiki/Rock_paper_scissors.\n",
        "\n",
        "You will program the game step by step. Please read the instructions carefully. There are hints and important explanations that will help you with this exercise."
      ]
    },
    {
      "cell_type": "markdown",
      "metadata": {
        "id": "ymULFKyosM3d"
      },
      "source": [
        "##Warm up\n",
        "\n",
        "Each player can choose between the three actions \"rock\", \"paper\" and \"scissors\". First, you need to create a list that contains all possible actions. "
      ]
    },
    {
      "cell_type": "code",
      "execution_count": null,
      "metadata": {
        "id": "0w6HGZBvsvru"
      },
      "outputs": [],
      "source": [
        "#Please create a list containing the three actions of the game.\n",
        "game=[\"rock\",\"paper\",\"scissors\"]"
      ]
    },
    {
      "cell_type": "markdown",
      "metadata": {
        "id": "cnWVzlo1vBy8"
      },
      "source": [
        "# Choose an action\n",
        "\n",
        "Now you have the list with the actions ready. The next step is to let Python randomly choose an action from this list. Each player has to make a choice, so Python has to make a choice for player 1 and another one for player 2.\n",
        "\n",
        "📌The built-in module \"random\" can help you with this. As you might remember from previous lessons you can use the .randint() method to generate random numbers.\n",
        "\n",
        "📌📌There is another method in the random module called .choice(). It takes a list as input and selects an item randomly from that list.\n",
        "\n"
      ]
    },
    {
      "cell_type": "code",
      "execution_count": null,
      "metadata": {
        "id": "bdlEyJC2xPOw"
      },
      "outputs": [],
      "source": [
        "#Import the random library\n",
        "import random\n",
        "\n",
        "#Select a random action for each player\n",
        "player1=random.choice(game)\n",
        "player2=random.choice(game)\n",
        "\n",
        "#Use the print function to print the players choices\n",
        "print(player1)\n",
        "print(player2)"
      ]
    },
    {
      "cell_type": "markdown",
      "metadata": {
        "id": "Yr7uQq1J2k6p"
      },
      "source": [
        "# Determine the winner\n",
        "\n",
        "So, who won? To determine the winner, you first have to specify all possible outcomes of the game. Then you can use conditional statements to specify which outcome will lead to a win for player 1 or player 2, or a tie.\n",
        "\n",
        "First, let's start with the outcome that both users chose the same action: a tie!\n",
        "In case of a tie, the game should print the message \"Tie! Both players chose the same action.\" to the screen.\n",
        "\n",
        "📌Use conditional statements to check whether the players actions are equal to each other and *if* this condition is true the message should be printed."
      ]
    },
    {
      "cell_type": "code",
      "execution_count": null,
      "metadata": {
        "id": "8S1F2r8NtEoN"
      },
      "outputs": [],
      "source": [
        "#1 - Tie Condition\n",
        "#Please write an if statement to check if the players chose the same action\n",
        "if player1 == player2:\n",
        "    print(\"Tie!\")\n"
      ]
    },
    {
      "cell_type": "markdown",
      "metadata": {
        "id": "6aKSif7rItma"
      },
      "source": [
        "Now, let's focus on the remaining outcomes. We have three different actions: rock, paper and scissors.\n",
        "\n",
        "This is a list of all the possible combinations (without those that result in a tie):\n",
        "\n",
        "1.   (paper, rock)\n",
        "2.   (paper, scissors)\n",
        "3.   (scissors, rock)\n",
        "4.   (scissors, paper)\n",
        "5.   (rock, paper)\n",
        "6.   (rock, scissors)\n",
        "\n",
        "You need to check all these conditions in order to determine the winner.\n",
        "\n",
        "📌You can use the \"and\" operator to combine two actions in one conditional statement.\n",
        "\n",
        "📌📌Another approach is using nested if statements to check whether the action of player 2 beats the action of player 1.\n",
        "\n",
        "🧨💣In the cell, first copy the code you wrote for \"Tie\" conditions. Then continue to add the other outcomes using \"elif\".\n",
        "\n",
        "\n"
      ]
    },
    {
      "cell_type": "code",
      "execution_count": null,
      "metadata": {
        "id": "Ix9sskr5z6Td"
      },
      "outputs": [],
      "source": [
        "#Copy your code of the tie-conditions here\n",
        "#1 - Tie Condition\n",
        "if player1==player2:\n",
        "    print(\"Tie!\")\n",
        "\n",
        "#2-Winning Conditions\n",
        "#Please add the conditional statements for the remaining combinations \n",
        "\n",
        "elif player1==\"paper\" and player2== \"rock\":\n",
        "    print(\"player1 is win!\")\n",
        "elif player1==\"paper\" and player2== \"scissors\":\n",
        "    print(\"player2 is win!\")\n",
        "elif player1== \"scissors\" and player2== \"rock\":\n",
        "    print(\"player2 is win!\")\n",
        "elif player1==\"scissors\" and player2== \"paper\":\n",
        "    print(\"player1 is win!\")\n",
        "elif player1==\"rock\" and player2==\"paper\":\n",
        "    print(\"player2 is win!\")\n",
        "elif player1==\"rock\" and player2==\"scissors\":\n",
        "    print(\"player1 is win!\")"
      ]
    },
    {
      "cell_type": "markdown",
      "metadata": {
        "id": "7Ixf-AHqIhcV"
      },
      "source": [
        "# Best of 3 or 5 or single round ? :)\n",
        "\n",
        "Now that you have your game set, let's also ask the users how many rounds they want to play.\n",
        "\n",
        "📌 You can use the input function for this.\n",
        "\n",
        "And because there are multiple rounds, you need to keep track of the score. For this, you need to create a variable for each player that is 0 in the beginning.\n"
      ]
    },
    {
      "cell_type": "code",
      "execution_count": null,
      "metadata": {
        "id": "_kbrpXXkBU_d"
      },
      "outputs": [],
      "source": [
        "#Please ask the user how many rounds they want to play\n",
        "time=int(input(\"How many times do you want to play?\"))\n",
        "\n",
        "#Scores of players\n",
        "score1=0\n",
        "score2=0\n"
      ]
    },
    {
      "cell_type": "markdown",
      "metadata": {
        "id": "nzIGT6s_CWvP"
      },
      "source": [
        "# Use a for loop to specify the number of rounds \n",
        "The user specified how many rounds he or she wants to play. \n",
        "\n",
        "One way to use this information is to put the game inside of a for loop.\n",
        "\n",
        "📌 You can use a for loop and the range() function to repeat the loop for a specified number of times.\n",
        "\n",
        "📌📌 Don't forget to convert the user input to the data type integer. You can use the int() function for this.\n",
        "\n",
        "📌📌📌 Don't forget to increment or add 1 to the score of the players that win, and print the current score after each round. You can use the assignment operator +=1 for this. "
      ]
    },
    {
      "cell_type": "code",
      "execution_count": null,
      "metadata": {
        "id": "Wy7CLLRNCV3X"
      },
      "outputs": [],
      "source": [
        "#Collect all the components of your program to run it in a for loop\n",
        "#Import the random library\n",
        "import random\n",
        "\n",
        "\n",
        "#Add the code to create a list containing the three actions of the game.\n",
        "game=[\"rock\",\"paper\",\"scissors\"]\n",
        "\n",
        "#Add the code to set the scores of players to 0\n",
        "score1=0\n",
        "score2=0\n",
        "#Add the code to ask the user how many rounds they want to play\n",
        "time=int(input(\"How many times do you want to play?\"))\n",
        "\n",
        "#Write a for loop and put the game inside\n",
        "for i in range(1,time):\n",
        "\n",
        "  #Add the code to select a random action for each player\n",
        "player1=random.choice(game)\n",
        "player2=random.choice(game)\n",
        "\n",
        "  #Add the code to print the players choices\n",
        "print(player1)\n",
        "print(player2)\n",
        "\n",
        "  #Add the tie condition\n",
        "if player1==player2:\n",
        "  print(\"Tie!\")\n",
        "\n",
        "  #Add the remaining condition\n",
        "elif player1==\"paper\" and player2== \"rock\":\n",
        "    print(\"player1 is win!\")\n",
        "    score1+=1\n",
        "elif player1==\"paper\" and player2== \"scissors\":\n",
        "    print(\"player2 is win!\")\n",
        "    score2+=1\n",
        "elif player1== \"scissors\" and player2== \"rock\":\n",
        "    print(\"player2 is win!\")\n",
        "    score2+=1\n",
        "elif player1==\"scissors\" and player2== \"paper\":\n",
        "    print(\"player1 is win!\")\n",
        "    score1+=\n",
        "elif player1==\"rock\" and player2==\"paper\":\n",
        "    print(\"player2 is win!\")\n",
        "    score2+=1\n",
        "elif player1==\"rock\" and player2==\"scissors\":\n",
        "    print(\"player1 is win!\")\n",
        "    score1+=1\n",
        "\n",
        "  #print the score\n",
        "print(score1)\n",
        "print(score2)\n",
        "\n"
      ]
    },
    {
      "cell_type": "markdown",
      "metadata": {
        "id": "QQIXQsmRwGqB"
      },
      "source": [
        "# Use a while loop to specify the number of rounds - Part 1\n",
        "\n",
        "In this module we also learned about while loops. Another way to play the game over and over again is using a while loop. \n",
        "\n",
        "This time, let's put the game inside a while loop.\n",
        "\n",
        "📌 You can directly use the value *True* to specify that the while loop should be executed. \n",
        "\n",
        "💣 By the way: Another very common name for True/False values is \"**Boolean values**\" or \"**Bools**\" in short.\n",
        "\n",
        "🧨🧨 Caution! Since we run the game in an while loop, you have to stop the game manually. Otherwise it will run infinitely.\n"
      ]
    },
    {
      "cell_type": "code",
      "execution_count": 7,
      "metadata": {
        "id": "dvTr4HR4wF4n",
        "colab": {
          "base_uri": "https://localhost:8080/"
        },
        "outputId": "b1270cba-e0ee-45af-81d8-f96fad0c2789"
      },
      "outputs": [
        {
          "output_type": "stream",
          "name": "stdout",
          "text": [
            "How many round would you like to play?3\n",
            "scissors\n",
            "paper\n",
            "player1 is win!\n",
            "scissors\n",
            "scissors\n",
            "Tie!\n",
            "scissors\n",
            "scissors\n",
            "Tie!\n",
            "rock\n",
            "scissors\n",
            "player1 is win!\n",
            "2\n",
            "0\n"
          ]
        }
      ],
      "source": [
        "#Collect all the components of your program to run it in a while loop\n",
        "#Import the random library\n",
        "import random\n",
        "\n",
        "#Add the code to create a list containing the three actions of the game.\n",
        "game=[\"rock\",\"paper\",\"scissors\"]\n",
        "\n",
        "#Add the code to set the scores of players to 0\n",
        "\n",
        "\n",
        "round=0\n",
        "round_numb=int(input(\"How many round would you like to play?\"))\n",
        "\n",
        "score1=0\n",
        "score2=0\n",
        "\n",
        "#Write a while loop and put the game inside\n",
        "while round<=round_numb:\n",
        "\n",
        "  #Add the code to select a random action for each player\n",
        "  player1=random.choice(game)\n",
        "  player2=random.choice(game)\n",
        "  #Add the code to print the players choices\n",
        "  print(player1)\n",
        "  print(player2)\n",
        "  #Add the tie condition\n",
        "  if player1==player2:\n",
        "      print(\"Tie!\")\n",
        "\n",
        "  #Add the remaining condition\n",
        "  elif player1==\"paper\" and player2== \"rock\":\n",
        "      print(\"player1 is win!\")\n",
        "      score1+=1\n",
        "  elif player1==\"paper\" and player2== \"scissors\":\n",
        "      print(\"player2 is win!\")\n",
        "      score2+=1\n",
        "  elif player1== \"scissors\" and player2== \"rock\":\n",
        "      print(\"player2 is win!\")\n",
        "      score2+=1\n",
        "  elif player1==\"scissors\" and player2== \"paper\":\n",
        "      print(\"player1 is win!\")\n",
        "      score1+=1\n",
        "  elif player1==\"rock\" and player2==\"paper\":\n",
        "      print(\"player2 is win!\")\n",
        "      score2+=1\n",
        "  elif player1==\"rock\" and player2==\"scissors\":\n",
        "      print(\"player1 is win!\")\n",
        "      score1+=1\n",
        "  round+=1\n",
        "  #print the score\n",
        "print(score1)\n",
        "print(score2)\n"
      ]
    },
    {
      "cell_type": "markdown",
      "metadata": {
        "id": "YKVAuxIsjaE6"
      },
      "source": [
        "# Use a while loop to specify the number of rounds - Part 2\n",
        "\n",
        "Now the game runs infinitely and the user can end it manually. But there is a more efficient way to do this: Let's ask the user again how many rounds they want to play, just as you did for the game inside the for loop.\n",
        "\n",
        "To prevent an infinite loop, you need to add a round_counter that is 0 at the beginning. In each round, this counter needs to increase by 1. \n",
        "\n",
        "At the end of your while loop, you need to add an \"if\" condition to check whether the round_counter is equal to the number of rounds that we got from user as an input. If this is the case, we need to use \"**break**\" to end the game.\n",
        "\n",
        "Once we end the game, it would be nice to see a message that prints the winner to the screen. In case of a tie, it should print a message that the game ended in a tie.\n",
        "\n",
        "📌 You can use \"if\" and \"elif\" statements to determine the winner at the end."
      ]
    },
    {
      "cell_type": "code",
      "execution_count": 10,
      "metadata": {
        "id": "emrjgYoXjYCR",
        "colab": {
          "base_uri": "https://localhost:8080/"
        },
        "outputId": "fdb4d8c1-1d10-4c9b-d791-9875e4e419fd"
      },
      "outputs": [
        {
          "output_type": "stream",
          "name": "stdout",
          "text": [
            "How many round would u play?-> 3\n",
            "1\n",
            "scissors\n",
            "rock\n",
            "player2 is win!\n",
            "Score of player1 0\n",
            "Score of player2 1\n",
            "The game is finished!\n",
            "2\n",
            "rock\n",
            "paper\n",
            "player2 is win!\n",
            "Score of player1 0\n",
            "Score of player2 2\n",
            "The game is finished!\n",
            "Player2 is Win!\n",
            "3\n",
            "scissors\n",
            "paper\n",
            "player1 is win!\n",
            "Score of player1 1\n",
            "Score of player2 2\n"
          ]
        }
      ],
      "source": [
        "#Collect all the components of your program to run it in a while loop\n",
        "#Import the random library\n",
        "import random\n",
        "\n",
        "#Add the code to create a list containing the three actions of the game.\n",
        "game=[\"rock\", \"paper\", \"scissors\"]\n",
        "\n",
        "#Add the code to set the scores of players to 0\n",
        "score1=0\n",
        "score2=0\n",
        "#Add a round_counter that is 0 at the beginning\n",
        "round_counter=0\n",
        "\n",
        "#Add the code to ask the user how many rounds they want to play\n",
        "round=int(input(\"How many round would u play?-> \"))\n",
        "\n",
        "#Write a while loop and put the game inside\n",
        "while round_counter<=round:\n",
        "\n",
        "  #increase round_counter by 1 and print it\n",
        "  round_counter+=1\n",
        "  print(round_counter)\n",
        "  #Add the code to select a random action for each player\n",
        "  player1=random.choice(game)\n",
        "  player2=random.choice(game)\n",
        "\n",
        "  #Add the code to print the players choices\n",
        "  print(player1)\n",
        "  print(player2)\n",
        "\n",
        "  #Add the tie condition\n",
        "  if player1==player2:\n",
        "    print(\"Tie!\")\n",
        "\n",
        "  #Add the remaining condition\n",
        "  elif player1==\"paper\" and player2== \"rock\":\n",
        "      print(\"player1 is win!\")\n",
        "      score1+=1\n",
        "  elif player1==\"paper\" and player2== \"scissors\":\n",
        "      print(\"player2 is win!\")\n",
        "      score2+=1\n",
        "  elif player1== \"scissors\" and player2== \"rock\":\n",
        "      print(\"player2 is win!\")\n",
        "      score2+=1\n",
        "  elif player1==\"scissors\" and player2== \"paper\":\n",
        "      print(\"player1 is win!\")\n",
        "      score1+=1\n",
        "  elif player1==\"rock\" and player2==\"paper\":\n",
        "      print(\"player2 is win!\")\n",
        "      score2+=1\n",
        "  elif player1==\"rock\" and player2==\"scissors\":\n",
        "      print(\"player1 is win!\")\n",
        "      score1+=1\n",
        "\n",
        "  #print the score\n",
        "  print(\"Score of player1\", score1)\n",
        "  print(\"Score of player2\", score2)\n",
        "\n",
        "  #stop the while loop if the round_counter equals the number of total rounds\n",
        "  if round_counter==round:\n",
        "    break\n",
        "#Print the outcome of the game by using conditional statements\n",
        "  print(\"The game is finished!\")\n",
        "  if score1>=2:\n",
        "      print(\"Player1 is win!\")\n",
        "  elif score2>=2:\n",
        "      print(\"Player2 is Win!\")\n",
        "  elif score1==score2:\n",
        "      print(\"Tie! play again\")"
      ]
    }
  ],
  "metadata": {
    "colab": {
      "collapsed_sections": [],
      "name": "practical_exercise2.ipynb",
      "provenance": []
    },
    "kernelspec": {
      "display_name": "Python 3",
      "name": "python3"
    },
    "language_info": {
      "name": "python"
    }
  },
  "nbformat": 4,
  "nbformat_minor": 0
}